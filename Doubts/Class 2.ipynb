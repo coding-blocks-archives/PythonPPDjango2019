{
 "cells": [
  {
   "cell_type": "code",
   "execution_count": 1,
   "metadata": {},
   "outputs": [
    {
     "name": "stdout",
     "output_type": "stream",
     "text": [
      "5\n",
      "4\n",
      "area = 20\n",
      "perimeter = 18\n"
     ]
    }
   ],
   "source": [
    "l = int(input())\n",
    "b = int(input())\n",
    "\n",
    "print(\"area =\", l*b)\n",
    "print(\"perimeter =\", 2*(l+b))"
   ]
  },
  {
   "cell_type": "code",
   "execution_count": 6,
   "metadata": {},
   "outputs": [
    {
     "name": "stdout",
     "output_type": "stream",
     "text": [
      "7 7 7 7 7 7 7 \n",
      "7 6 6 6 6 6 7 \n",
      "7 6 5 5 5 6 7 \n",
      "7 6 5 4 5 6 7 \n",
      "7 6 5 5 5 6 7 \n",
      "7 6 6 6 6 6 7 \n",
      "7 7 7 7 7 7 7 \n"
     ]
    }
   ],
   "source": [
    "n = 7\n",
    "i = 0\n",
    "k = 0\n",
    "while i<n:\n",
    "    j = 0\n",
    "    while j < n:\n",
    "        if i == k or j == k or i == (n-1-k) or j == (n-1-k):\n",
    "            print(n-k, end = \" \")\n",
    "            k = 0\n",
    "        else:\n",
    "            k += 1\n",
    "            j -= 1\n",
    "        j += 1\n",
    "    i+=1\n",
    "    print()"
   ]
  },
  {
   "cell_type": "code",
   "execution_count": 13,
   "metadata": {},
   "outputs": [
    {
     "name": "stdout",
     "output_type": "stream",
     "text": [
      "7 7 7 7 7 7 7 \n",
      "7 6 6 6 6 6 7 \n",
      "7 6 5 5 5 6 7 \n",
      "7 6 5 4 5 6 7 \n",
      "7 6 5 5 5 6 7 \n",
      "7 6 6 6 6 6 7 \n",
      "7 7 7 7 7 7 7 \n"
     ]
    }
   ],
   "source": [
    "n = 7\n",
    "for i in range(n):\n",
    "    for j in range(n):\n",
    "        print(n - min(i, j, n-i-1, n-j-1), end = \" \")\n",
    "    print()"
   ]
  },
  {
   "cell_type": "code",
   "execution_count": 19,
   "metadata": {},
   "outputs": [
    {
     "name": "stdout",
     "output_type": "stream",
     "text": [
      "* * * * * * * * * * \n"
     ]
    }
   ],
   "source": [
    "print(\"* \" * 10)"
   ]
  },
  {
   "cell_type": "code",
   "execution_count": 20,
   "metadata": {},
   "outputs": [
    {
     "name": "stdout",
     "output_type": "stream",
     "text": [
      "* \n",
      "* * \n",
      "* * * \n",
      "* * * * \n",
      "* * * * * \n"
     ]
    }
   ],
   "source": [
    "n = 5\n",
    "for i in range(n):\n",
    "    print(\"* \" * (i+1))"
   ]
  },
  {
   "cell_type": "code",
   "execution_count": null,
   "metadata": {},
   "outputs": [],
   "source": []
  },
  {
   "cell_type": "code",
   "execution_count": null,
   "metadata": {},
   "outputs": [],
   "source": []
  },
  {
   "cell_type": "code",
   "execution_count": null,
   "metadata": {},
   "outputs": [],
   "source": []
  },
  {
   "cell_type": "code",
   "execution_count": null,
   "metadata": {},
   "outputs": [],
   "source": []
  }
 ],
 "metadata": {
  "kernelspec": {
   "display_name": "Python 3",
   "language": "python",
   "name": "python3"
  },
  "language_info": {
   "codemirror_mode": {
    "name": "ipython",
    "version": 3
   },
   "file_extension": ".py",
   "mimetype": "text/x-python",
   "name": "python",
   "nbconvert_exporter": "python",
   "pygments_lexer": "ipython3",
   "version": "3.7.0"
  }
 },
 "nbformat": 4,
 "nbformat_minor": 2
}
