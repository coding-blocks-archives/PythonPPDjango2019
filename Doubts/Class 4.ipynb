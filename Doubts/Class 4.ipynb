{
 "cells": [
  {
   "cell_type": "code",
   "execution_count": 2,
   "metadata": {},
   "outputs": [],
   "source": [
    "students = [\n",
    "    {\n",
    "        \"class\": 1,\n",
    "        \"name\": \"a\"\n",
    "    },\n",
    "    {\n",
    "        \"class\": 2,\n",
    "        \"name\": \"a\"\n",
    "    },\n",
    "    {\n",
    "        \"class\": 3,\n",
    "        \"name\": \"a\"\n",
    "    },\n",
    "    {\n",
    "        \"class\": 1,\n",
    "        \"name\": \"a\"\n",
    "    },\n",
    "    {\n",
    "        \"class\": 2,\n",
    "        \"name\": \"a\"\n",
    "    },\n",
    "    {\n",
    "        \"class\": 3,\n",
    "        \"name\": \"a\"\n",
    "    }\n",
    "]"
   ]
  },
  {
   "cell_type": "code",
   "execution_count": null,
   "metadata": {},
   "outputs": [],
   "source": [
    "grouped = {\n",
    "    1: [\n",
    "        {\n",
    "            \"class\": 1,\n",
    "            \"name\": \"a\"\n",
    "        },\n",
    "    ]\n",
    "}"
   ]
  },
  {
   "cell_type": "code",
   "execution_count": 7,
   "metadata": {},
   "outputs": [],
   "source": [
    "def groupBy(arr, groupKey):\n",
    "    grouped = {}\n",
    "    for student in arr:\n",
    "        key = student[groupKey]\n",
    "        if key in grouped:\n",
    "            grouped[key].append(student)\n",
    "        else:\n",
    "            grouped[key] = [student]\n",
    "    return grouped"
   ]
  },
  {
   "cell_type": "code",
   "execution_count": 6,
   "metadata": {},
   "outputs": [
    {
     "data": {
      "text/plain": [
       "{1: [{'class': 1, 'name': 'a'}, {'class': 1, 'name': 'a'}],\n",
       " 2: [{'class': 2, 'name': 'a'}, {'class': 2, 'name': 'a'}],\n",
       " 3: [{'class': 3, 'name': 'a'}, {'class': 3, 'name': 'a'}]}"
      ]
     },
     "execution_count": 6,
     "metadata": {},
     "output_type": "execute_result"
    }
   ],
   "source": [
    "grouped"
   ]
  },
  {
   "cell_type": "code",
   "execution_count": null,
   "metadata": {},
   "outputs": [],
   "source": []
  },
  {
   "cell_type": "code",
   "execution_count": null,
   "metadata": {},
   "outputs": [],
   "source": []
  },
  {
   "cell_type": "code",
   "execution_count": null,
   "metadata": {},
   "outputs": [],
   "source": []
  },
  {
   "cell_type": "code",
   "execution_count": null,
   "metadata": {},
   "outputs": [],
   "source": []
  },
  {
   "cell_type": "code",
   "execution_count": null,
   "metadata": {},
   "outputs": [],
   "source": []
  },
  {
   "cell_type": "code",
   "execution_count": null,
   "metadata": {},
   "outputs": [],
   "source": []
  }
 ],
 "metadata": {
  "kernelspec": {
   "display_name": "Python 3",
   "language": "python",
   "name": "python3"
  },
  "language_info": {
   "codemirror_mode": {
    "name": "ipython",
    "version": 3
   },
   "file_extension": ".py",
   "mimetype": "text/x-python",
   "name": "python",
   "nbconvert_exporter": "python",
   "pygments_lexer": "ipython3",
   "version": "3.7.0"
  }
 },
 "nbformat": 4,
 "nbformat_minor": 2
}
